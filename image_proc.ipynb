{
 "cells": [
  {
   "cell_type": "code",
   "execution_count": 243,
   "metadata": {},
   "outputs": [],
   "source": [
    "from video_dataset import  VideoFrameDataset, ImglistToTensor\n",
    "from torchvision import transforms\n",
    "import torch\n",
    "import matplotlib.pyplot as plt\n"
   ]
  },
  {
   "cell_type": "code",
   "execution_count": 254,
   "metadata": {},
   "outputs": [],
   "source": [
    "from mpl_toolkits.axes_grid1 import ImageGrid\n",
    "import os\n",
    "\n",
    "def plot_video(rows, cols, frame_list, plot_width, plot_height, title: str):\n",
    "    fig = plt.figure(figsize=(plot_width, plot_height))\n",
    "    grid = ImageGrid(fig, 111,  # similar to subplot(111)\n",
    "                     nrows_ncols=(rows, cols),  # creates 2x2 grid of axes\n",
    "                     axes_pad=0.3,  # pad between axes in inch.\n",
    "                     )\n",
    "\n",
    "    for index, (ax, im) in enumerate(zip(grid, frame_list)):\n",
    "        ax.imshow(im, cmap='gray')\n",
    "    plt.show()\n",
    "\n",
    "if __name__ == '__main__':\n",
    "    videos_root = os.path.join(os.getcwd(), 'demo_dataset')\n",
    "    annotation_file = os.path.join(videos_root, 'annotations.txt')\n",
    "\n",
    "    preprocess = transforms.Compose([\n",
    "        ImglistToTensor(),  # list of PIL images to (FRAMES x CHANNELS x HEIGHT x WIDTH) tensor\n",
    "        transforms.Resize(256),  # image batch, resize smaller edge to 299\n",
    "        transforms.CenterCrop(256),  # image batch, center crop to square 299x299\n",
    "        transforms.Normalize(mean=[0.485, 0.456, 0.406], std=[0.229, 0.224, 0.225]),\n",
    "    ])\n",
    "\n",
    "    dataset = VideoFrameDataset(\n",
    "        root_path=videos_root,\n",
    "        annotationfile_path=annotation_file,\n",
    "        num_segments=1,\n",
    "        frames_per_segment=9,\n",
    "        imagefile_template='img_{:05d}.jpg',\n",
    "        transform=preprocess,\n",
    "        test_mode=False\n",
    "    )\n",
    "\n",
    "    def denormalize(video_tensor):\n",
    "        inverse_normalize = transforms.Normalize(\n",
    "            mean=[-0.485 / 0.229, -0.456 / 0.224, -0.406 / 0.225],\n",
    "            std=[1 / 0.229, 1 / 0.224, 1 / 0.225]\n",
    "        )\n",
    "        return (inverse_normalize(video_tensor) * 255.).type(torch.uint8).permute(0, 2, 3, 1).numpy()\n",
    "\n",
    "    dataloader = torch.utils.data.DataLoader(\n",
    "        dataset=dataset,\n",
    "        batch_size=3,\n",
    "        shuffle=True,\n",
    "        num_workers=0,\n",
    "        pin_memory=False\n",
    "    )\n",
    "    "
   ]
  },
  {
   "cell_type": "code",
   "execution_count": 275,
   "metadata": {},
   "outputs": [
    {
     "name": "stdout",
     "output_type": "stream",
     "text": [
      "Epoch: 0\n",
      "\n",
      "Video Batch Tensor Size: torch.Size([3, 9, 3, 256, 256])\n",
      "\n",
      "Video Batch Tensor Size: torch.Size([3, 9, 27])\n"
     ]
    },
    {
     "data": {
      "image/png": "[encoded data removed]",
      "text/plain": [
       "<Figure size 600x600 with 6 Axes>"
      ]
     },
     "metadata": {},
     "output_type": "display_data"
    }
   ],
   "source": [
    "BATCH_SIZE = 3\n",
    "\n",
    "for epoch in range(1):\n",
    "        print(\"Epoch:\", epoch)\n",
    "        for video_batch, _ in dataloader:\n",
    "            print(\"\\nVideo Batch Tensor Size:\", video_batch.size())\n",
    "            # video_batch: (BATCH_SIZE, FRAMES, CHANNELS, HEIGHT, WIDTH)\n",
    "\n",
    "            max_row_index = 256 - 3\n",
    "            max_col_index = 256 - 3\n",
    "\n",
    "            x = torch.randint(0, max_row_index, size=(BATCH_SIZE, 1))\n",
    "            y = torch.randint(0, max_col_index, size=(BATCH_SIZE, 1))\n",
    "\n",
    "            # Extract a 3x3 patch from the video batch\n",
    "            patches = []\n",
    "            for i in range(BATCH_SIZE):\n",
    "                patch = video_batch[i, :, :, x[i]:x[i]+3, y[i]:y[i]+3]\n",
    "                patches.append(patch)\n",
    "            patches = torch.stack(patches, dim=0)\n",
    "            \n",
    "            em = patches.reshape(BATCH_SIZE, 9, 27)\n",
    "            print(\"\\nVideo Batch Tensor Size:\", em.size())\n",
    "\n",
    "            plot_video(3, 1, em*255, 6, 6, \"embedding patch\")\n",
    "\n",
    "            # train\n",
    "            break"
   ]
  }
 ],
 "metadata": {
  "kernelspec": {
   "display_name": "Python 3",
   "language": "python",
   "name": "python3"
  },
  "language_info": {
   "codemirror_mode": {
    "name": "ipython",
    "version": 3
   },
   "file_extension": ".py",
   "mimetype": "text/x-python",
   "name": "python",
   "nbconvert_exporter": "python",
   "pygments_lexer": "ipython3",
   "version": "3.9.6"
  },
  "orig_nbformat": 4
 },
 "nbformat": 4,
 "nbformat_minor": 2
}
